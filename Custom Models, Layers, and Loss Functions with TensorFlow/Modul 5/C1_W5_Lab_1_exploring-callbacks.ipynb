{
 "cells": [
  {
   "cell_type": "markdown",
   "metadata": {
    "colab_type": "text",
    "id": "view-in-github"
   },
   "source": [
    "<a href=\"https://colab.research.google.com/github/https-deeplearning-ai/tensorflow-3-public/blob/main/Course%201%20-%20Custom%20Models%2C%20Layers%20and%20Loss%20Functions/Week%205%20-%20Callbacks/C1_W5_Lab_1_exploring-callbacks.ipynb\" target=\"_parent\"><img src=\"https://colab.research.google.com/assets/colab-badge.svg\" alt=\"Open In Colab\"/></a>"
   ]
  },
  {
   "cell_type": "markdown",
   "metadata": {
    "colab_type": "text",
    "id": "0c_TYhQOUe1j"
   },
   "source": [
    "# Ungraded Lab: Introduction to Keras callbacks\n",
    "\n",
    "In Keras, `Callback` is a Python class meant to be subclassed to provide specific functionality, with a set of methods called at various stages of training (including batch/epoch start and ends), testing, and predicting. Callbacks are useful to get a view on internal states and statistics of the model during training. The methods of the callbacks can  be called at different stages of training/evaluating/inference. Keras has available [callbacks](https://keras.io/api/callbacks/) and we'll show how you can use it in the following sections. Please click the **Open in Colab** badge above to complete this exercise in Colab. This will allow you to take advantage of the free GPU runtime (for faster training) and compatibility with all the packages needed in this notebook."
   ]
  },
  {
   "cell_type": "markdown",
   "metadata": {
    "colab_type": "text",
    "id": "Uyl69EyRQx-f"
   },
   "source": [
    "## Model methods that take callbacks\n",
    "Users can supply a list of callbacks to the following `tf.keras.Model` methods:\n",
    "* [`fit()`](https://www.tensorflow.org/versions/r2.0/api_docs/python/tf/keras/Model#fit), [`fit_generator()`](https://www.tensorflow.org/versions/r2.0/api_docs/python/tf/keras/Model#fit_generator)\n",
    "Trains the model for a fixed number of epochs (iterations over a dataset, or data yielded batch-by-batch by a Python generator).\n",
    "* [`evaluate()`](https://www.tensorflow.org/versions/r2.0/api_docs/python/tf/keras/Model#evaluate), [`evaluate_generator()`](https://www.tensorflow.org/versions/r2.0/api_docs/python/tf/keras/Model#evaluate_generator)\n",
    "Evaluates the model for given data or data generator. Outputs the loss and metric values from the evaluation.\n",
    "* [`predict()`](https://www.tensorflow.org/versions/r2.0/api_docs/python/tf/keras/Model#predict), [`predict_generator()`](https://www.tensorflow.org/versions/r2.0/api_docs/python/tf/keras/Model#predict_generator)\n",
    "Generates output predictions for the input data or data generator."
   ]
  },
  {
   "cell_type": "markdown",
   "metadata": {},
   "source": [
    "## Imports"
   ]
  },
  {
   "cell_type": "code",
   "execution_count": 22,
   "metadata": {
    "colab": {},
    "colab_type": "code",
    "id": "AlT1Kh3uA9lZ"
   },
   "outputs": [
    {
     "name": "stdout",
     "output_type": "stream",
     "text": [
      "The tensorboard extension is already loaded. To reload it, use:\n",
      "  %reload_ext tensorboard\n",
      "Version:  2.1.0\n"
     ]
    }
   ],
   "source": [
    "from __future__ import absolute_import, division, print_function, unicode_literals\n",
    "\n",
    "try:\n",
    "    # %tensorflow_version only exists in Colab.\n",
    "    %tensorflow_version 2.x\n",
    "except Exception:\n",
    "    pass\n",
    "\n",
    "import tensorflow as tf\n",
    "import tensorflow_datasets as tfds\n",
    "import matplotlib.pyplot as plt\n",
    "import io\n",
    "from PIL import Image\n",
    "\n",
    "from tensorflow.keras.callbacks import TensorBoard, EarlyStopping, LearningRateScheduler, ModelCheckpoint, CSVLogger, ReduceLROnPlateau\n",
    "%load_ext tensorboard\n",
    "\n",
    "import os\n",
    "import matplotlib.pylab as plt\n",
    "import numpy as np\n",
    "import math\n",
    "import datetime\n",
    "import pandas as pd\n",
    "\n",
    "print(\"Version: \", tf.__version__)\n",
    "tf.get_logger().setLevel('INFO')"
   ]
  },
  {
   "cell_type": "markdown",
   "metadata": {
    "colab_type": "text",
    "id": "HnSljqtsXKfb"
   },
   "source": [
    "# Examples of Keras callback applications\n",
    "The following section will guide you through creating simple [Callback](https://keras.io/api/callbacks/) applications."
   ]
  },
  {
   "cell_type": "code",
   "execution_count": 23,
   "metadata": {
    "colab": {},
    "colab_type": "code",
    "id": "spskRuxvCYQE"
   },
   "outputs": [],
   "source": [
    "# Download and prepare the horses or humans dataset\n",
    "\n",
    "# horses_or_humans 3.0.0 has already been downloaded for you\n",
    "path = \"./tensorflow_datasets\"\n",
    "splits, info = tfds.load('horses_or_humans', data_dir=path, as_supervised=True, with_info=True, split=['train[:80%]', 'train[80%:]', 'test'])\n",
    "\n",
    "(train_examples, validation_examples, test_examples) = splits\n",
    "\n",
    "num_examples = info.splits['train'].num_examples\n",
    "num_classes = info.features['label'].num_classes"
   ]
  },
  {
   "cell_type": "code",
   "execution_count": 24,
   "metadata": {
    "colab": {},
    "colab_type": "code",
    "id": "veIsubKTCZsN"
   },
   "outputs": [],
   "source": [
    "SIZE = 150 #@param {type:\"slider\", min:64, max:300, step:1}\n",
    "IMAGE_SIZE = (SIZE, SIZE)"
   ]
  },
  {
   "cell_type": "code",
   "execution_count": 25,
   "metadata": {
    "colab": {},
    "colab_type": "code",
    "id": "faajLlErCb1S"
   },
   "outputs": [],
   "source": [
    "def format_image(image, label):\n",
    "  image = tf.image.resize(image, IMAGE_SIZE) / 255.0\n",
    "  return  image, label"
   ]
  },
  {
   "cell_type": "code",
   "execution_count": 26,
   "metadata": {
    "colab": {},
    "colab_type": "code",
    "id": "AVXPuU12Cdka"
   },
   "outputs": [],
   "source": [
    "BATCH_SIZE = 32 #@param {type:\"integer\"}"
   ]
  },
  {
   "cell_type": "code",
   "execution_count": 27,
   "metadata": {
    "colab": {},
    "colab_type": "code",
    "id": "0lHDkFVaCe48"
   },
   "outputs": [],
   "source": [
    "train_batches = train_examples.shuffle(num_examples // 4).map(format_image).batch(BATCH_SIZE).prefetch(1)\n",
    "validation_batches = validation_examples.map(format_image).batch(BATCH_SIZE).prefetch(1)\n",
    "test_batches = test_examples.map(format_image).batch(1)"
   ]
  },
  {
   "cell_type": "code",
   "execution_count": 28,
   "metadata": {
    "colab": {},
    "colab_type": "code",
    "id": "DxsCqEIkCgUt"
   },
   "outputs": [
    {
     "data": {
      "text/plain": [
       "TensorShape([32, 150, 150, 3])"
      ]
     },
     "execution_count": 28,
     "metadata": {},
     "output_type": "execute_result"
    }
   ],
   "source": [
    "for image_batch, label_batch in train_batches.take(1):\n",
    "  pass\n",
    "\n",
    "image_batch.shape"
   ]
  },
  {
   "cell_type": "code",
   "execution_count": 29,
   "metadata": {
    "colab": {},
    "colab_type": "code",
    "id": "iDBpWvHXCh2A"
   },
   "outputs": [],
   "source": [
    "def build_model(dense_units, input_shape=IMAGE_SIZE + (3,)):\n",
    "  model = tf.keras.models.Sequential([\n",
    "      tf.keras.layers.Conv2D(16, (3, 3), activation='relu', input_shape=input_shape),\n",
    "      tf.keras.layers.MaxPooling2D(2, 2),\n",
    "      tf.keras.layers.Conv2D(32, (3, 3), activation='relu'),\n",
    "      tf.keras.layers.MaxPooling2D(2, 2),\n",
    "      tf.keras.layers.Conv2D(64, (3, 3), activation='relu'),\n",
    "      tf.keras.layers.MaxPooling2D(2, 2),\n",
    "      tf.keras.layers.Flatten(),\n",
    "      tf.keras.layers.Dense(dense_units, activation='relu'),\n",
    "      tf.keras.layers.Dense(2, activation='softmax')\n",
    "  ])\n",
    "  return model"
   ]
  },
  {
   "cell_type": "markdown",
   "metadata": {
    "colab_type": "text",
    "id": "0ZKGkjagENSw"
   },
   "source": [
    "## [TensorBoard](https://keras.io/api/callbacks/tensorboard/)\n",
    "\n",
    "Enable visualizations for TensorBoard."
   ]
  },
  {
   "cell_type": "code",
   "execution_count": 30,
   "metadata": {
    "colab": {},
    "colab_type": "code",
    "id": "CeiD2WVEHbex"
   },
   "outputs": [
    {
     "name": "stdout",
     "output_type": "stream",
     "text": [
      "rm: cannot remove 'logs/20230601-054403/train': Directory not empty\r\n",
      "rm: cannot remove 'logs/20230601-054403/validation': Directory not empty\r\n"
     ]
    }
   ],
   "source": [
    "!rm -rf logs"
   ]
  },
  {
   "cell_type": "code",
   "execution_count": 31,
   "metadata": {
    "colab": {},
    "colab_type": "code",
    "id": "PpLwPLnAEOzv"
   },
   "outputs": [
    {
     "name": "stdout",
     "output_type": "stream",
     "text": [
      "Epoch 1/10\n",
      "26/26 [==============================] - 23s 868ms/step - loss: 0.6717 - accuracy: 0.5718 - val_loss: 0.6598 - val_accuracy: 0.5610\n",
      "Epoch 2/10\n",
      "26/26 [==============================] - 23s 904ms/step - loss: 0.6175 - accuracy: 0.7433 - val_loss: 0.5747 - val_accuracy: 0.8000\n",
      "Epoch 3/10\n",
      "26/26 [==============================] - 23s 885ms/step - loss: 0.5306 - accuracy: 0.7968 - val_loss: 0.5034 - val_accuracy: 0.8341\n",
      "Epoch 4/10\n",
      "26/26 [==============================] - 21s 792ms/step - loss: 0.4601 - accuracy: 0.8078 - val_loss: 0.4652 - val_accuracy: 0.7463\n",
      "Epoch 5/10\n",
      "26/26 [==============================] - 21s 797ms/step - loss: 0.3730 - accuracy: 0.8613 - val_loss: 0.3340 - val_accuracy: 0.8244\n",
      "Epoch 6/10\n",
      "26/26 [==============================] - 20s 788ms/step - loss: 0.3164 - accuracy: 0.8966 - val_loss: 0.3833 - val_accuracy: 0.8585\n",
      "Epoch 7/10\n",
      "26/26 [==============================] - 20s 773ms/step - loss: 0.2500 - accuracy: 0.9197 - val_loss: 0.2508 - val_accuracy: 0.9317\n",
      "Epoch 8/10\n",
      "26/26 [==============================] - 20s 784ms/step - loss: 0.2124 - accuracy: 0.9343 - val_loss: 0.3663 - val_accuracy: 0.8293\n",
      "Epoch 9/10\n",
      "26/26 [==============================] - 20s 773ms/step - loss: 0.1753 - accuracy: 0.9513 - val_loss: 0.2245 - val_accuracy: 0.9171\n",
      "Epoch 10/10\n",
      "26/26 [==============================] - 21s 804ms/step - loss: 0.1383 - accuracy: 0.9684 - val_loss: 0.1209 - val_accuracy: 0.9659\n"
     ]
    },
    {
     "data": {
      "text/plain": [
       "<tensorflow.python.keras.callbacks.History at 0x7efdb5aad6d0>"
      ]
     },
     "execution_count": 31,
     "metadata": {},
     "output_type": "execute_result"
    }
   ],
   "source": [
    "model = build_model(dense_units=256)\n",
    "model.compile(\n",
    "    optimizer='sgd',\n",
    "    loss='sparse_categorical_crossentropy', \n",
    "    metrics=['accuracy'])\n",
    "  \n",
    "logdir = os.path.join(\"logs\", datetime.datetime.now().strftime(\"%Y%m%d-%H%M%S\"))\n",
    "tensorboard_callback = tf.keras.callbacks.TensorBoard(logdir)\n",
    "\n",
    "model.fit(train_batches, \n",
    "          epochs=10, \n",
    "          validation_data=validation_batches, \n",
    "          callbacks=[tensorboard_callback])"
   ]
  },
  {
   "cell_type": "code",
   "execution_count": 32,
   "metadata": {
    "colab": {},
    "colab_type": "code",
    "id": "iJunWOjZE0ir"
   },
   "outputs": [
    {
     "data": {
      "text/plain": [
       "Reusing TensorBoard on port 6006 (pid 1327), started 0:42:09 ago. (Use '!kill 1327' to kill it.)"
      ]
     },
     "metadata": {},
     "output_type": "display_data"
    },
    {
     "data": {
      "text/html": [
       "\n",
       "      <iframe id=\"tensorboard-frame-a5d0152d77564744\" width=\"100%\" height=\"800\" frameborder=\"0\">\n",
       "      </iframe>\n",
       "      <script>\n",
       "        (function() {\n",
       "          const frame = document.getElementById(\"tensorboard-frame-a5d0152d77564744\");\n",
       "          const url = new URL(\"/\", window.location);\n",
       "          url.port = 6006;\n",
       "          frame.src = url;\n",
       "        })();\n",
       "      </script>\n",
       "  "
      ],
      "text/plain": [
       "<IPython.core.display.HTML object>"
      ]
     },
     "metadata": {},
     "output_type": "display_data"
    }
   ],
   "source": [
    "%tensorboard --logdir logs"
   ]
  },
  {
   "cell_type": "markdown",
   "metadata": {
    "colab_type": "text",
    "id": "wv9H4Pc2Mfl7"
   },
   "source": [
    "## [Model Checkpoint](https://keras.io/api/callbacks/model_checkpoint/)\n",
    "\n",
    "Callback to save the Keras model or model weights at some frequency."
   ]
  },
  {
   "cell_type": "code",
   "execution_count": 33,
   "metadata": {
    "colab": {},
    "colab_type": "code",
    "id": "PYV4FJ8iMmDq"
   },
   "outputs": [
    {
     "name": "stdout",
     "output_type": "stream",
     "text": [
      "Epoch 1/5\n",
      "\n",
      "Epoch 00001: saving model to weights.01-0.68.h5\n",
      "26/26 - 32s - loss: 0.6843 - accuracy: 0.5341 - val_loss: 0.6810 - val_accuracy: 0.4976\n",
      "Epoch 2/5\n",
      "\n",
      "Epoch 00003: saving model to weights.03-0.65.h5\n",
      "26/26 - 20s - loss: 0.6306 - accuracy: 0.7141 - val_loss: 0.6451 - val_accuracy: 0.5415\n",
      "Epoch 4/5\n",
      "\n",
      "Epoch 00004: saving model to weights.04-0.53.h5\n",
      "26/26 - 21s - loss: 0.5755 - accuracy: 0.7470 - val_loss: 0.5276 - val_accuracy: 0.7707\n",
      "Epoch 5/5\n",
      "\n",
      "Epoch 00005: saving model to weights.05-0.60.h5\n",
      "26/26 - 20s - loss: 0.5273 - accuracy: 0.7798 - val_loss: 0.5984 - val_accuracy: 0.6244\n"
     ]
    },
    {
     "data": {
      "text/plain": [
       "<tensorflow.python.keras.callbacks.History at 0x7efdb5923c50>"
      ]
     },
     "execution_count": 33,
     "metadata": {},
     "output_type": "execute_result"
    }
   ],
   "source": [
    "model = build_model(dense_units=256)\n",
    "model.compile(\n",
    "    optimizer='sgd',\n",
    "    loss='sparse_categorical_crossentropy', \n",
    "    metrics=['accuracy'])\n",
    "  \n",
    "model.fit(train_batches, \n",
    "          epochs=5, \n",
    "          validation_data=validation_batches, \n",
    "          verbose=2,\n",
    "          callbacks=[ModelCheckpoint('weights.{epoch:02d}-{val_loss:.2f}.h5', verbose=1),\n",
    "          ])"
   ]
  },
  {
   "cell_type": "code",
   "execution_count": null,
   "metadata": {
    "colab": {},
    "colab_type": "code",
    "id": "oGvjQ8IlMmK6"
   },
   "outputs": [],
   "source": [
    "model = build_model(dense_units=256)\n",
    "model.compile(\n",
    "    optimizer='sgd',\n",
    "    loss='sparse_categorical_crossentropy', \n",
    "    metrics=['accuracy'])\n",
    "  \n",
    "model.fit(train_batches, \n",
    "          epochs=1, \n",
    "          validation_data=validation_batches, \n",
    "          verbose=2,\n",
    "          callbacks=[ModelCheckpoint('saved_model', verbose=1)\n",
    "          ])"
   ]
  },
  {
   "cell_type": "code",
   "execution_count": 35,
   "metadata": {
    "colab": {},
    "colab_type": "code",
    "id": "Y1ConwoB0EjD"
   },
   "outputs": [
    {
     "name": "stdout",
     "output_type": "stream",
     "text": [
      "\n",
      "Epoch 00002: saving model to model.h5\n",
      "26/26 - 20s - loss: 0.6287 - accuracy: 0.6606 - val_loss: 0.6360 - val_accuracy: 0.6000\n"
     ]
    },
    {
     "data": {
      "text/plain": [
       "<tensorflow.python.keras.callbacks.History at 0x7efdb531df50>"
      ]
     },
     "execution_count": 35,
     "metadata": {},
     "output_type": "execute_result"
    }
   ],
   "source": [
    "model = build_model(dense_units=256)\n",
    "model.compile(\n",
    "    optimizer='sgd',\n",
    "    loss='sparse_categorical_crossentropy', \n",
    "    metrics=['accuracy'])\n",
    "  \n",
    "model.fit(train_batches, \n",
    "          epochs=2, \n",
    "          validation_data=validation_batches, \n",
    "          verbose=2,\n",
    "          callbacks=[ModelCheckpoint('model.h5', verbose=1)\n",
    "          ])"
   ]
  },
  {
   "cell_type": "markdown",
   "metadata": {
    "colab_type": "text",
    "id": "kptNF0--Lznv"
   },
   "source": [
    "## [Early stopping](https://keras.io/api/callbacks/early_stopping/)\n",
    "\n",
    "Stop training when a monitored metric has stopped improving."
   ]
  },
  {
   "cell_type": "code",
   "execution_count": 36,
   "metadata": {
    "colab": {},
    "colab_type": "code",
    "id": "KJOJTJYdCkdY"
   },
   "outputs": [
    {
     "name": "stdout",
     "output_type": "stream",
     "text": [
      "Epoch 1/50\n",
      "26/26 - 21s - loss: 0.6668 - accuracy: 0.5706 - val_loss: 0.6976 - val_accuracy: 0.4439\n",
      "Epoch 2/50\n",
      "26/26 - 21s - loss: 0.5992 - accuracy: 0.7178 - val_loss: 0.5610 - val_accuracy: 0.7366\n",
      "Epoch 3/50\n",
      "26/26 - 21s - loss: 0.5245 - accuracy: 0.7482 - val_loss: 0.5208 - val_accuracy: 0.8098\n",
      "Epoch 4/50\n",
      "26/26 - 22s - loss: 0.4792 - accuracy: 0.7701 - val_loss: 0.4357 - val_accuracy: 0.7951\n",
      "Epoch 5/50\n",
      "26/26 - 20s - loss: 0.4201 - accuracy: 0.8163 - val_loss: 0.3956 - val_accuracy: 0.8537\n",
      "Epoch 6/50\n",
      "26/26 - 22s - loss: 0.3845 - accuracy: 0.8285 - val_loss: 0.3260 - val_accuracy: 0.8585\n",
      "Epoch 7/50\n",
      "26/26 - 21s - loss: 0.3391 - accuracy: 0.8686 - val_loss: 0.3015 - val_accuracy: 0.8878\n",
      "Epoch 8/50\n",
      "26/26 - 23s - loss: 0.3012 - accuracy: 0.8917 - val_loss: 0.3203 - val_accuracy: 0.8585\n",
      "Epoch 9/50\n",
      "26/26 - 20s - loss: 0.2416 - accuracy: 0.9209 - val_loss: 0.2452 - val_accuracy: 0.9073\n",
      "Epoch 10/50\n",
      "26/26 - 20s - loss: 0.1948 - accuracy: 0.9453 - val_loss: 0.1781 - val_accuracy: 0.9317\n",
      "Epoch 11/50\n",
      "26/26 - 20s - loss: 0.1868 - accuracy: 0.9416 - val_loss: 0.1278 - val_accuracy: 0.9659\n",
      "Epoch 12/50\n",
      "26/26 - 21s - loss: 0.1265 - accuracy: 0.9793 - val_loss: 0.0936 - val_accuracy: 0.9805\n",
      "Epoch 13/50\n",
      "26/26 - 20s - loss: 0.1014 - accuracy: 0.9732 - val_loss: 0.1115 - val_accuracy: 0.9561\n",
      "Epoch 14/50\n",
      "26/26 - 20s - loss: 0.0946 - accuracy: 0.9745 - val_loss: 0.0737 - val_accuracy: 0.9805\n",
      "Epoch 15/50\n",
      "26/26 - 20s - loss: 0.0708 - accuracy: 0.9891 - val_loss: 0.1046 - val_accuracy: 0.9512\n",
      "Epoch 16/50\n",
      "26/26 - 21s - loss: 0.0685 - accuracy: 0.9854 - val_loss: 0.0608 - val_accuracy: 0.9805\n",
      "Epoch 17/50\n",
      "Restoring model weights from the end of the best epoch.\n",
      "26/26 - 21s - loss: 0.0564 - accuracy: 0.9903 - val_loss: 0.0615 - val_accuracy: 0.9805\n",
      "Epoch 00017: early stopping\n"
     ]
    },
    {
     "data": {
      "text/plain": [
       "<tensorflow.python.keras.callbacks.History at 0x7efdb5221b10>"
      ]
     },
     "execution_count": 36,
     "metadata": {},
     "output_type": "execute_result"
    }
   ],
   "source": [
    "model = build_model(dense_units=256)\n",
    "model.compile(\n",
    "    optimizer='sgd',\n",
    "    loss='sparse_categorical_crossentropy', \n",
    "    metrics=['accuracy'])\n",
    "  \n",
    "model.fit(train_batches, \n",
    "          epochs=50, \n",
    "          validation_data=validation_batches, \n",
    "          verbose=2,\n",
    "          callbacks=[EarlyStopping(\n",
    "              patience=3,\n",
    "              min_delta=0.05,\n",
    "              baseline=0.8,\n",
    "              mode='min',\n",
    "              monitor='val_loss',\n",
    "              restore_best_weights=True,\n",
    "              verbose=1)\n",
    "          ])"
   ]
  },
  {
   "cell_type": "markdown",
   "metadata": {
    "colab_type": "text",
    "id": "8mDzWUD4Pqq5"
   },
   "source": [
    "## [CSV Logger](https://keras.io/api/callbacks/csv_logger/)\n",
    "\n",
    "Callback that streams epoch results to a CSV file."
   ]
  },
  {
   "cell_type": "code",
   "execution_count": 37,
   "metadata": {
    "colab": {},
    "colab_type": "code",
    "id": "cffnMpmGPtMh"
   },
   "outputs": [
    {
     "name": "stdout",
     "output_type": "stream",
     "text": [
      "Epoch 1/5\n",
      "26/26 [==============================] - 25s 968ms/step - loss: 0.6756 - accuracy: 0.6119 - val_loss: 0.6784 - val_accuracy: 0.4634\n",
      "Epoch 2/5\n",
      "26/26 [==============================] - 22s 856ms/step - loss: 0.6200 - accuracy: 0.6679 - val_loss: 0.6020 - val_accuracy: 0.6098\n",
      "Epoch 3/5\n",
      "26/26 [==============================] - 21s 793ms/step - loss: 0.5745 - accuracy: 0.7202 - val_loss: 0.7184 - val_accuracy: 0.4829\n",
      "Epoch 4/5\n",
      "26/26 [==============================] - 20s 776ms/step - loss: 0.5084 - accuracy: 0.7798 - val_loss: 0.4400 - val_accuracy: 0.8732\n",
      "Epoch 5/5\n",
      "26/26 [==============================] - 21s 791ms/step - loss: 0.4374 - accuracy: 0.8273 - val_loss: 0.3887 - val_accuracy: 0.9122\n"
     ]
    },
    {
     "data": {
      "text/plain": [
       "<tensorflow.python.keras.callbacks.History at 0x7efdb4f98a50>"
      ]
     },
     "execution_count": 37,
     "metadata": {},
     "output_type": "execute_result"
    }
   ],
   "source": [
    "model = build_model(dense_units=256)\n",
    "model.compile(\n",
    "    optimizer='sgd',\n",
    "    loss='sparse_categorical_crossentropy', \n",
    "    metrics=['accuracy'])\n",
    "  \n",
    "csv_file = 'training.csv'\n",
    "\n",
    "model.fit(train_batches, \n",
    "          epochs=5, \n",
    "          validation_data=validation_batches, \n",
    "          callbacks=[CSVLogger(csv_file)\n",
    "          ])"
   ]
  },
  {
   "cell_type": "code",
   "execution_count": 38,
   "metadata": {
    "colab": {},
    "colab_type": "code",
    "id": "B9tkYi03QV7R"
   },
   "outputs": [
    {
     "data": {
      "text/html": [
       "<div>\n",
       "<style scoped>\n",
       "    .dataframe tbody tr th:only-of-type {\n",
       "        vertical-align: middle;\n",
       "    }\n",
       "\n",
       "    .dataframe tbody tr th {\n",
       "        vertical-align: top;\n",
       "    }\n",
       "\n",
       "    .dataframe thead th {\n",
       "        text-align: right;\n",
       "    }\n",
       "</style>\n",
       "<table border=\"1\" class=\"dataframe\">\n",
       "  <thead>\n",
       "    <tr style=\"text-align: right;\">\n",
       "      <th></th>\n",
       "      <th>epoch</th>\n",
       "      <th>accuracy</th>\n",
       "      <th>loss</th>\n",
       "      <th>val_accuracy</th>\n",
       "      <th>val_loss</th>\n",
       "    </tr>\n",
       "  </thead>\n",
       "  <tbody>\n",
       "    <tr>\n",
       "      <th>0</th>\n",
       "      <td>0</td>\n",
       "      <td>0.611922</td>\n",
       "      <td>0.675882</td>\n",
       "      <td>0.463415</td>\n",
       "      <td>0.678381</td>\n",
       "    </tr>\n",
       "    <tr>\n",
       "      <th>1</th>\n",
       "      <td>1</td>\n",
       "      <td>0.667883</td>\n",
       "      <td>0.619023</td>\n",
       "      <td>0.609756</td>\n",
       "      <td>0.602015</td>\n",
       "    </tr>\n",
       "    <tr>\n",
       "      <th>2</th>\n",
       "      <td>2</td>\n",
       "      <td>0.720195</td>\n",
       "      <td>0.575555</td>\n",
       "      <td>0.482927</td>\n",
       "      <td>0.718446</td>\n",
       "    </tr>\n",
       "    <tr>\n",
       "      <th>3</th>\n",
       "      <td>3</td>\n",
       "      <td>0.779805</td>\n",
       "      <td>0.508197</td>\n",
       "      <td>0.873171</td>\n",
       "      <td>0.440037</td>\n",
       "    </tr>\n",
       "    <tr>\n",
       "      <th>4</th>\n",
       "      <td>4</td>\n",
       "      <td>0.827251</td>\n",
       "      <td>0.436536</td>\n",
       "      <td>0.912195</td>\n",
       "      <td>0.388683</td>\n",
       "    </tr>\n",
       "  </tbody>\n",
       "</table>\n",
       "</div>"
      ],
      "text/plain": [
       "   epoch  accuracy      loss  val_accuracy  val_loss\n",
       "0      0  0.611922  0.675882      0.463415  0.678381\n",
       "1      1  0.667883  0.619023      0.609756  0.602015\n",
       "2      2  0.720195  0.575555      0.482927  0.718446\n",
       "3      3  0.779805  0.508197      0.873171  0.440037\n",
       "4      4  0.827251  0.436536      0.912195  0.388683"
      ]
     },
     "execution_count": 38,
     "metadata": {},
     "output_type": "execute_result"
    }
   ],
   "source": [
    "pd.read_csv(csv_file).head()"
   ]
  },
  {
   "cell_type": "markdown",
   "metadata": {
    "colab_type": "text",
    "id": "Dt9C2Y9fRBKN"
   },
   "source": [
    "## [Learning Rate Scheduler](https://keras.io/api/callbacks/learning_rate_scheduler/)\n",
    "\n",
    "Updates the learning rate during training."
   ]
  },
  {
   "cell_type": "code",
   "execution_count": 39,
   "metadata": {
    "colab": {},
    "colab_type": "code",
    "id": "aJi-xY2VRC03"
   },
   "outputs": [
    {
     "name": "stdout",
     "output_type": "stream",
     "text": [
      "\n",
      "Epoch 00001: LearningRateScheduler reducing learning rate to 0.005.\n",
      "Epoch 1/5\n",
      "26/26 [==============================] - 30s 1s/step - loss: 0.6809 - accuracy: 0.5474 - val_loss: 0.7071 - val_accuracy: 0.4341\n",
      "\n",
      "Epoch 00002: LearningRateScheduler reducing learning rate to 0.0025.\n",
      "Epoch 2/5\n",
      "26/26 [==============================] - 24s 919ms/step - loss: 0.6605 - accuracy: 0.5742 - val_loss: 0.6647 - val_accuracy: 0.6732\n",
      "\n",
      "Epoch 00003: LearningRateScheduler reducing learning rate to 0.00125.\n",
      "Epoch 3/5\n",
      "26/26 [==============================] - 21s 827ms/step - loss: 0.6508 - accuracy: 0.6691 - val_loss: 0.6641 - val_accuracy: 0.5805\n",
      "\n",
      "Epoch 00004: LearningRateScheduler reducing learning rate to 0.000625.\n",
      "Epoch 4/5\n",
      "26/26 [==============================] - 21s 812ms/step - loss: 0.6450 - accuracy: 0.6618 - val_loss: 0.6631 - val_accuracy: 0.5659\n",
      "\n",
      "Epoch 00005: LearningRateScheduler reducing learning rate to 0.0003125.\n",
      "Epoch 5/5\n",
      "26/26 [==============================] - 20s 786ms/step - loss: 0.6422 - accuracy: 0.6606 - val_loss: 0.6615 - val_accuracy: 0.5805\n"
     ]
    },
    {
     "data": {
      "text/plain": [
       "<tensorflow.python.keras.callbacks.History at 0x7efdb4e07dd0>"
      ]
     },
     "execution_count": 39,
     "metadata": {},
     "output_type": "execute_result"
    }
   ],
   "source": [
    "model = build_model(dense_units=256)\n",
    "model.compile(\n",
    "    optimizer='sgd',\n",
    "    loss='sparse_categorical_crossentropy', \n",
    "    metrics=['accuracy'])\n",
    "  \n",
    "def step_decay(epoch):\n",
    "\tinitial_lr = 0.01\n",
    "\tdrop = 0.5\n",
    "\tepochs_drop = 1\n",
    "\tlr = initial_lr * math.pow(drop, math.floor((1+epoch)/epochs_drop))\n",
    "\treturn lr\n",
    "\n",
    "model.fit(train_batches, \n",
    "          epochs=5, \n",
    "          validation_data=validation_batches, \n",
    "          callbacks=[LearningRateScheduler(step_decay, verbose=1),\n",
    "                    TensorBoard(log_dir='./log_dir')])"
   ]
  },
  {
   "cell_type": "code",
   "execution_count": 40,
   "metadata": {
    "colab": {},
    "colab_type": "code",
    "id": "M2S4n8nrbV91"
   },
   "outputs": [
    {
     "data": {
      "text/plain": [
       "Reusing TensorBoard on port 6007 (pid 4736), started 0:43:07 ago. (Use '!kill 4736' to kill it.)"
      ]
     },
     "metadata": {},
     "output_type": "display_data"
    },
    {
     "data": {
      "text/html": [
       "\n",
       "      <iframe id=\"tensorboard-frame-eec908ca842f0bc2\" width=\"100%\" height=\"800\" frameborder=\"0\">\n",
       "      </iframe>\n",
       "      <script>\n",
       "        (function() {\n",
       "          const frame = document.getElementById(\"tensorboard-frame-eec908ca842f0bc2\");\n",
       "          const url = new URL(\"/\", window.location);\n",
       "          url.port = 6007;\n",
       "          frame.src = url;\n",
       "        })();\n",
       "      </script>\n",
       "  "
      ],
      "text/plain": [
       "<IPython.core.display.HTML object>"
      ]
     },
     "metadata": {},
     "output_type": "display_data"
    }
   ],
   "source": [
    "%tensorboard --logdir log_dir"
   ]
  },
  {
   "cell_type": "markdown",
   "metadata": {
    "colab_type": "text",
    "id": "y0wcuQyJE_UK"
   },
   "source": [
    "## [ReduceLROnPlateau](https://keras.io/api/callbacks/reduce_lr_on_plateau/)\n",
    "\n",
    "Reduce learning rate when a metric has stopped improving."
   ]
  },
  {
   "cell_type": "code",
   "execution_count": 41,
   "metadata": {
    "colab": {},
    "colab_type": "code",
    "id": "4naxZ-eCFB27"
   },
   "outputs": [
    {
     "name": "stdout",
     "output_type": "stream",
     "text": [
      "Epoch 1/50\n",
      "26/26 [==============================] - 21s 819ms/step - loss: 0.3281 - accuracy: 0.9051 - val_loss: 0.3139 - val_accuracy: 0.8976\n",
      "Epoch 8/50\n",
      "26/26 [==============================] - 21s 812ms/step - loss: 0.2978 - accuracy: 0.9197 - val_loss: 0.2882 - val_accuracy: 0.9220\n",
      "Epoch 9/50\n",
      "26/26 [==============================] - 21s 812ms/step - loss: 0.2845 - accuracy: 0.9282 - val_loss: 0.2712 - val_accuracy: 0.9268\n",
      "Epoch 10/50\n",
      "25/26 [===========================>..] - ETA: 0s - loss: 0.2707 - accuracy: 0.9300\n",
      "Epoch 00010: ReduceLROnPlateau reducing learning rate to 0.001.\n",
      "26/26 [==============================] - 24s 915ms/step - loss: 0.2701 - accuracy: 0.9307 - val_loss: 0.2754 - val_accuracy: 0.9073\n",
      "Epoch 11/50\n",
      "26/26 [==============================] - 21s 804ms/step - loss: 0.2583 - accuracy: 0.9355 - val_loss: 0.2518 - val_accuracy: 0.9268\n",
      "Epoch 12/50\n",
      "25/26 [===========================>..] - ETA: 0s - loss: 0.2506 - accuracy: 0.9350\n",
      "Epoch 00012: ReduceLROnPlateau reducing learning rate to 0.001.\n",
      "26/26 [==============================] - 21s 813ms/step - loss: 0.2525 - accuracy: 0.9355 - val_loss: 0.2540 - val_accuracy: 0.9268\n",
      "Epoch 13/50\n",
      "26/26 [==============================] - 22s 829ms/step - loss: 0.2464 - accuracy: 0.9392 - val_loss: 0.2377 - val_accuracy: 0.9317\n",
      "Epoch 14/50\n",
      "25/26 [===========================>..] - ETA: 0s - loss: 0.2408 - accuracy: 0.9388\n",
      "Epoch 00014: ReduceLROnPlateau reducing learning rate to 0.001.\n",
      "26/26 [==============================] - 20s 785ms/step - loss: 0.2388 - accuracy: 0.9392 - val_loss: 0.2393 - val_accuracy: 0.9366\n",
      "Epoch 15/50\n",
      "25/26 [===========================>..] - ETA: 0s - loss: 0.2322 - accuracy: 0.9400\n",
      "Epoch 00015: ReduceLROnPlateau reducing learning rate to 0.001.\n",
      "26/26 [==============================] - 21s 792ms/step - loss: 0.2339 - accuracy: 0.9392 - val_loss: 0.2398 - val_accuracy: 0.9366\n",
      "Epoch 16/50\n",
      "26/26 [==============================] - 20s 769ms/step - loss: 0.2270 - accuracy: 0.9416 - val_loss: 0.2268 - val_accuracy: 0.9415\n",
      "Epoch 17/50\n",
      "26/26 [==============================] - 20s 785ms/step - loss: 0.2216 - accuracy: 0.9440 - val_loss: 0.2232 - val_accuracy: 0.9415\n",
      "Epoch 18/50\n",
      "26/26 [==============================] - 22s 831ms/step - loss: 0.2164 - accuracy: 0.9440 - val_loss: 0.2111 - val_accuracy: 0.9415\n",
      "Epoch 19/50\n",
      "25/26 [===========================>..] - ETA: 0s - loss: 0.2116 - accuracy: 0.9475\n",
      "Epoch 00019: ReduceLROnPlateau reducing learning rate to 0.001.\n",
      "26/26 [==============================] - 20s 785ms/step - loss: 0.2117 - accuracy: 0.9465 - val_loss: 0.2135 - val_accuracy: 0.9415\n",
      "Epoch 20/50\n",
      "26/26 [==============================] - 20s 765ms/step - loss: 0.2060 - accuracy: 0.9477 - val_loss: 0.2030 - val_accuracy: 0.9415\n",
      "Epoch 21/50\n",
      "26/26 [==============================] - 21s 792ms/step - loss: 0.1989 - accuracy: 0.9526 - val_loss: 0.1939 - val_accuracy: 0.9415\n",
      "Epoch 22/50\n",
      "26/26 [==============================] - 20s 765ms/step - loss: 0.1954 - accuracy: 0.9550 - val_loss: 0.1871 - val_accuracy: 0.9366\n",
      "Epoch 23/50\n",
      "26/26 [==============================] - 20s 773ms/step - loss: 0.1905 - accuracy: 0.9611 - val_loss: 0.1858 - val_accuracy: 0.9415\n",
      "Epoch 24/50\n",
      "26/26 [==============================] - 20s 781ms/step - loss: 0.1876 - accuracy: 0.9623 - val_loss: 0.1856 - val_accuracy: 0.9415\n",
      "Epoch 25/50\n",
      "26/26 [==============================] - 27s 1s/step - loss: 0.1830 - accuracy: 0.9684 - val_loss: 0.1818 - val_accuracy: 0.9415\n",
      "Epoch 26/50\n",
      "26/26 [==============================] - 20s 779ms/step - loss: 0.1774 - accuracy: 0.9659 - val_loss: 0.1783 - val_accuracy: 0.9415\n",
      "Epoch 27/50\n",
      "26/26 [==============================] - 20s 780ms/step - loss: 0.1734 - accuracy: 0.9672 - val_loss: 0.1772 - val_accuracy: 0.9415\n",
      "Epoch 28/50\n",
      "26/26 [==============================] - 21s 800ms/step - loss: 0.1714 - accuracy: 0.9720 - val_loss: 0.1614 - val_accuracy: 0.9463\n",
      "Epoch 29/50\n",
      "25/26 [===========================>..] - ETA: 0s - loss: 0.1646 - accuracy: 0.9700\n",
      "Epoch 00029: ReduceLROnPlateau reducing learning rate to 0.001.\n",
      "26/26 [==============================] - 21s 791ms/step - loss: 0.1654 - accuracy: 0.9708 - val_loss: 0.1708 - val_accuracy: 0.9415\n",
      "Epoch 30/50\n",
      "25/26 [===========================>..] - ETA: 0s - loss: 0.1605 - accuracy: 0.9737\n",
      "Epoch 00030: ReduceLROnPlateau reducing learning rate to 0.001.\n",
      "26/26 [==============================] - 22s 859ms/step - loss: 0.1619 - accuracy: 0.9720 - val_loss: 0.1716 - val_accuracy: 0.9463\n",
      "Epoch 31/50\n",
      "26/26 [==============================] - 20s 782ms/step - loss: 0.1579 - accuracy: 0.9732 - val_loss: 0.1576 - val_accuracy: 0.9512\n",
      "Epoch 32/50\n",
      "26/26 [==============================] - 21s 796ms/step - loss: 0.1541 - accuracy: 0.9745 - val_loss: 0.1487 - val_accuracy: 0.9512\n",
      "Epoch 33/50\n",
      "25/26 [===========================>..] - ETA: 0s - loss: 0.1491 - accuracy: 0.9762\n",
      "Epoch 00033: ReduceLROnPlateau reducing learning rate to 0.001.\n",
      "26/26 [==============================] - 20s 777ms/step - loss: 0.1492 - accuracy: 0.9757 - val_loss: 0.1501 - val_accuracy: 0.9512\n",
      "Epoch 34/50\n",
      "26/26 [==============================] - 23s 877ms/step - loss: 0.1489 - accuracy: 0.9720 - val_loss: 0.1449 - val_accuracy: 0.9561\n",
      "Epoch 35/50\n",
      "25/26 [===========================>..] - ETA: 0s - loss: 0.1447 - accuracy: 0.9750\n",
      "Epoch 00035: ReduceLROnPlateau reducing learning rate to 0.001.\n",
      "26/26 [==============================] - 21s 812ms/step - loss: 0.1444 - accuracy: 0.9745 - val_loss: 0.1464 - val_accuracy: 0.9512\n",
      "Epoch 36/50\n",
      "26/26 [==============================] - 23s 900ms/step - loss: 0.1414 - accuracy: 0.9732 - val_loss: 0.1389 - val_accuracy: 0.9561\n",
      "Epoch 37/50\n",
      "26/26 [==============================] - 20s 788ms/step - loss: 0.1384 - accuracy: 0.9745 - val_loss: 0.1372 - val_accuracy: 0.9561\n",
      "Epoch 38/50\n",
      "25/26 [===========================>..] - ETA: 0s - loss: 0.1364 - accuracy: 0.9750\n",
      "Epoch 00038: ReduceLROnPlateau reducing learning rate to 0.001.\n",
      "26/26 [==============================] - 22s 854ms/step - loss: 0.1357 - accuracy: 0.9757 - val_loss: 0.1374 - val_accuracy: 0.9561\n",
      "Epoch 39/50\n",
      "25/26 [===========================>..] - ETA: 0s - loss: 0.1319 - accuracy: 0.9775\n",
      "Epoch 00039: ReduceLROnPlateau reducing learning rate to 0.001.\n",
      "26/26 [==============================] - 21s 799ms/step - loss: 0.1311 - accuracy: 0.9769 - val_loss: 0.1512 - val_accuracy: 0.9415\n",
      "Epoch 40/50\n",
      "25/26 [===========================>..] - ETA: 0s - loss: 0.1302 - accuracy: 0.9775\n",
      "Epoch 00040: ReduceLROnPlateau reducing learning rate to 0.001.\n",
      "26/26 [==============================] - 21s 804ms/step - loss: 0.1290 - accuracy: 0.9781 - val_loss: 0.1459 - val_accuracy: 0.9463\n",
      "Epoch 41/50\n",
      "26/26 [==============================] - 21s 820ms/step - loss: 0.1263 - accuracy: 0.9757 - val_loss: 0.1248 - val_accuracy: 0.9610\n",
      "Epoch 42/50\n",
      "25/26 [===========================>..] - ETA: 0s - loss: 0.1234 - accuracy: 0.9775\n",
      "Epoch 00042: ReduceLROnPlateau reducing learning rate to 0.001.\n",
      "26/26 [==============================] - 20s 785ms/step - loss: 0.1245 - accuracy: 0.9781 - val_loss: 0.1358 - val_accuracy: 0.9512\n",
      "Epoch 43/50\n",
      "26/26 [==============================] - 20s 784ms/step - loss: 0.1215 - accuracy: 0.9769 - val_loss: 0.1237 - val_accuracy: 0.9610\n",
      "Epoch 44/50\n",
      "26/26 [==============================] - 21s 796ms/step - loss: 0.1174 - accuracy: 0.9781 - val_loss: 0.1187 - val_accuracy: 0.9707\n",
      "Epoch 45/50\n",
      "25/26 [===========================>..] - ETA: 0s - loss: 0.1168 - accuracy: 0.9762\n",
      "Epoch 00045: ReduceLROnPlateau reducing learning rate to 0.001.\n",
      "26/26 [==============================] - 20s 777ms/step - loss: 0.1158 - accuracy: 0.9769 - val_loss: 0.1189 - val_accuracy: 0.9610\n",
      "Epoch 46/50\n",
      "25/26 [===========================>..] - ETA: 0s - loss: 0.1150 - accuracy: 0.9775\n",
      "Epoch 00046: ReduceLROnPlateau reducing learning rate to 0.001.\n",
      "26/26 [==============================] - 22s 857ms/step - loss: 0.1136 - accuracy: 0.9781 - val_loss: 0.1242 - val_accuracy: 0.9561\n",
      "Epoch 47/50\n",
      "26/26 [==============================] - 20s 781ms/step - loss: 0.1106 - accuracy: 0.9793 - val_loss: 0.1167 - val_accuracy: 0.9610\n",
      "Epoch 48/50\n",
      "26/26 [==============================] - 20s 771ms/step - loss: 0.1089 - accuracy: 0.9769 - val_loss: 0.1116 - val_accuracy: 0.9707\n",
      "Epoch 49/50\n",
      "25/26 [===========================>..] - ETA: 0s - loss: 0.1058 - accuracy: 0.9800\n",
      "Epoch 00049: ReduceLROnPlateau reducing learning rate to 0.001.\n",
      "26/26 [==============================] - 21s 801ms/step - loss: 0.1071 - accuracy: 0.9781 - val_loss: 0.1117 - val_accuracy: 0.9610\n",
      "Epoch 50/50\n",
      "26/26 [==============================] - 21s 809ms/step - loss: 0.1049 - accuracy: 0.9818 - val_loss: 0.1073 - val_accuracy: 0.9805\n"
     ]
    },
    {
     "data": {
      "text/plain": [
       "<tensorflow.python.keras.callbacks.History at 0x7efd106bedd0>"
      ]
     },
     "execution_count": 41,
     "metadata": {},
     "output_type": "execute_result"
    }
   ],
   "source": [
    "model = build_model(dense_units=256)\n",
    "model.compile(\n",
    "    optimizer='sgd',\n",
    "    loss='sparse_categorical_crossentropy', \n",
    "    metrics=['accuracy'])\n",
    "  \n",
    "model.fit(train_batches, \n",
    "          epochs=50, \n",
    "          validation_data=validation_batches, \n",
    "          callbacks=[ReduceLROnPlateau(monitor='val_loss', \n",
    "                                       factor=0.2, verbose=1,\n",
    "                                       patience=1, min_lr=0.001),\n",
    "                     TensorBoard(log_dir='./log_dir')])"
   ]
  },
  {
   "cell_type": "code",
   "execution_count": 42,
   "metadata": {
    "colab": {},
    "colab_type": "code",
    "id": "isfTWP4NYudk"
   },
   "outputs": [
    {
     "data": {
      "text/plain": [
       "Reusing TensorBoard on port 6007 (pid 4736), started 1:00:45 ago. (Use '!kill 4736' to kill it.)"
      ]
     },
     "metadata": {},
     "output_type": "display_data"
    },
    {
     "data": {
      "text/html": [
       "\n",
       "      <iframe id=\"tensorboard-frame-d86c52b55e6dd9ec\" width=\"100%\" height=\"800\" frameborder=\"0\">\n",
       "      </iframe>\n",
       "      <script>\n",
       "        (function() {\n",
       "          const frame = document.getElementById(\"tensorboard-frame-d86c52b55e6dd9ec\");\n",
       "          const url = new URL(\"/\", window.location);\n",
       "          url.port = 6007;\n",
       "          frame.src = url;\n",
       "        })();\n",
       "      </script>\n",
       "  "
      ],
      "text/plain": [
       "<IPython.core.display.HTML object>"
      ]
     },
     "metadata": {},
     "output_type": "display_data"
    }
   ],
   "source": [
    "%tensorboard --logdir log_dir"
   ]
  }
 ],
 "metadata": {
  "colab": {
   "collapsed_sections": [],
   "include_colab_link": true,
   "name": "ExploringCallbacks.ipynb",
   "provenance": []
  },
  "kernelspec": {
   "display_name": "Python 3",
   "language": "python",
   "name": "python3"
  },
  "language_info": {
   "codemirror_mode": {
    "name": "ipython",
    "version": 3
   },
   "file_extension": ".py",
   "mimetype": "text/x-python",
   "name": "python",
   "nbconvert_exporter": "python",
   "pygments_lexer": "ipython3",
   "version": "3.7.6"
  }
 },
 "nbformat": 4,
 "nbformat_minor": 4
}
